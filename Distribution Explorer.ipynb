{
 "cells": [
  {
   "cell_type": "markdown",
   "id": "58bdf872-1bbc-4813-bc02-72f0eab2ca35",
   "metadata": {},
   "source": [
    "### Suncal-Web Distribution Explorer\n",
    "\n",
    "---"
   ]
  },
  {
   "cell_type": "code",
   "execution_count": 1,
   "id": "7f519408-a5fd-4623-9e69-a065d009ab8b",
   "metadata": {},
   "outputs": [],
   "source": [
    "%matplotlib ipympl\n",
    "import ipywidgets as widgets\n",
    "import matplotlib.pyplot as plt\n",
    "import sympy\n",
    "\n",
    "import suncalwidgets as sw\n",
    "import suncal\n",
    "from suncal import dist_explore\n",
    "suncal.plotting.plotstyle.update({'font.size': 9})"
   ]
  },
  {
   "cell_type": "code",
   "execution_count": 2,
   "id": "12e70404-47d4-40c4-94ca-c6ebf26d1f14",
   "metadata": {},
   "outputs": [],
   "source": [
    "class Dist(widgets.VBox):\n",
    "    def __init__(self):\n",
    "        self.name = widgets.Text('a', description='Name', continuous_update=False)\n",
    "        self.dist = sw.DistributionWidget()\n",
    "        self.btnsample = widgets.Button(description='Sample')\n",
    "        self.name.observe(self.checkname)\n",
    "        super().__init__([self.name, self.dist, self.btnsample])\n",
    "\n",
    "    def checkname(self, change):\n",
    "        try:\n",
    "            expr = sympy.sympify(self.name.value)\n",
    "            n = len(expr.free_symbols)\n",
    "        except ValueError:\n",
    "            self.dist.layout.visibility = 'hidden'\n",
    "            self.btnsample.disabled = True\n",
    "        else:\n",
    "            self.btnsample.disabled = False\n",
    "            if hasattr(expr, 'is_symbol') and expr.is_symbol:\n",
    "                # Single variable\n",
    "                self.dist.layout.visibility = 'visible'\n",
    "                self.btnsample.description = 'Sample'\n",
    "            else:  # Monte Carlo\n",
    "                self.dist.layout.visibility = 'hidden'\n",
    "                self.btnsample.description = 'Calculate'\n",
    "\n",
    "\n",
    "class DistList(widgets.VBox):\n",
    "    def __init__(self):\n",
    "        self.displayedname = None\n",
    "        self.btnadd = widgets.Button(description='+', layout={'width': 'max-content'})\n",
    "        self.btnrem = widgets.Button(description='–', layout={'width': 'max-content'})\n",
    "        self.btnadd.on_click(self.additem)\n",
    "        self.btnrem.on_click(self.remitem)\n",
    "        self.btnlayout = widgets.HBox([self.btnadd, self.btnrem])\n",
    "        self.dists = widgets.Accordion()\n",
    "        self.nsamples = widgets.IntText(value=10000, description='Samples')\n",
    "        self.nsamples.observe(self.on_samplechange)\n",
    "        self.cmbFit = widgets.Dropdown(options=['None', 'normal', 't', 'triangular', 'gamma', 'uniform', 'expon'], description='Fit')\n",
    "        self.chkProbPlot = widgets.Checkbox(description='Show Probability Plot')\n",
    "        self.chkCov = widgets.Checkbox(description='Show 95% Coverage')\n",
    "        self.chkProbPlot.observe(self.replot)\n",
    "        self.chkCov.observe(self.replot)\n",
    "        self.cmbFit.observe(self.replot)\n",
    "        self.additem()\n",
    "        super().__init__([self.btnlayout, self.dists, self.nsamples, self.cmbFit, self.chkProbPlot, self.chkCov])\n",
    "\n",
    "    def on_samplechange(self, change):\n",
    "        dexp.set_numsamples(self.nsamples.value)\n",
    "\n",
    "    def additem(self, change=None):\n",
    "        n = len(self.dists.children)\n",
    "        newdist = Dist()\n",
    "        self.dists.children = list(self.dists.children) + [newdist]\n",
    "        self.dists.set_title(n, f'Distribution {n+1}')\n",
    "        self.dists.selected_index = n\n",
    "        newdist.btnsample.on_click(lambda change: self.sample(newdist.name.value, newdist.dist.get_dist(), change))\n",
    "\n",
    "    def remitem(self, change=None):\n",
    "        self.dists.children = list(self.dists.children)[:-1]\n",
    "    \n",
    "    def get_dists(self):\n",
    "        dists = {}\n",
    "        for child in self.dists.children:\n",
    "            dists[child.name.value] = child.dist.get_dist()\n",
    "        return dists\n",
    "\n",
    "    def sample(self, name, dist, change):\n",
    "        self.displayedname = name\n",
    "        dexp.dists[name] = dist\n",
    "        dexp.sample(name)\n",
    "        with outtable:\n",
    "            outtable.clear_output()\n",
    "            display(dexp.out.report_single(name))\n",
    "        dexp.out.plot_hist(name, plot=fig, qqplot=self.chkProbPlot.value, coverage=self.chkCov.value)\n",
    "\n",
    "    def replot(self, change):\n",
    "        if self.displayedname:\n",
    "            with outtable:\n",
    "                outtable.clear_output()\n",
    "                display(dexp.out.report_single(self.displayedname))\n",
    "            fitdist = None if self.cmbFit.value == 'None' else self.cmbFit.value\n",
    "            if fitdist is None and self.chkProbPlot.value:\n",
    "                fitdist = 'normal'\n",
    "            dexp.out.plot_hist(self.displayedname, plot=fig, fitdist=fitdist,\n",
    "                               qqplot=self.chkProbPlot.value, coverage=self.chkCov.value)\n",
    "        \n",
    "        "
   ]
  },
  {
   "cell_type": "code",
   "execution_count": 3,
   "id": "ecba38c1-d11d-4ef8-a387-a61ce669d1c4",
   "metadata": {},
   "outputs": [
    {
     "data": {
      "application/vnd.jupyter.widget-view+json": {
       "model_id": "16ff02c2fa0d4937baee78f82c140668",
       "version_major": 2,
       "version_minor": 0
      },
      "text/plain": [
       "HBox(children=(DistList(children=(HBox(children=(Button(description='+', layout=Layout(width='max-content'), s…"
      ]
     },
     "metadata": {},
     "output_type": "display_data"
    }
   ],
   "source": [
    "dexp = dist_explore.DistExplore()\n",
    "\n",
    "plt.ioff()\n",
    "fig = plt.figure()\n",
    "plt.ion()\n",
    "outtable = widgets.Output()\n",
    "\n",
    "dlist = DistList()\n",
    "outlayout = widgets.VBox([fig.canvas, outtable])\n",
    "widgets.HBox([dlist, outlayout])"
   ]
  },
  {
   "cell_type": "markdown",
   "id": "d59e20a8-5932-499c-bef0-0616f90fa197",
   "metadata": {},
   "source": [
    "---\n",
    "\n",
    "Use this tool to perform manual Monte Carlo analysis on different probability distributions. Mainly used for training exercises."
   ]
  },
  {
   "cell_type": "markdown",
   "id": "f65a42db-3fa8-48f6-841e-2df9b4275868",
   "metadata": {},
   "source": [
    "---\n",
    "\n",
    "#### Suncal\n",
    "\n",
    "Suncal was developed by the Primary Standards Lab at Sandia National Laboratories. For more features and desktop version, see [https://sandiapsl.github.io](https://sandiapsl.github.io).\n",
    "\n",
    "© 2019-2021 National Technology & Engineering Solutions of Sandia, LLC (NTESS).\n",
    "Under the terms of Contract DE-NA0003525 with NTESS, the U.S. Government\n",
    "retains certain rights in this software."
   ]
  },
  {
   "cell_type": "code",
   "execution_count": null,
   "id": "33168386-6375-41c5-9bd8-7f63920e7ac5",
   "metadata": {},
   "outputs": [],
   "source": []
  }
 ],
 "metadata": {
  "kernelspec": {
   "display_name": "Python 3 (ipykernel)",
   "language": "python",
   "name": "python3"
  },
  "language_info": {
   "codemirror_mode": {
    "name": "ipython",
    "version": 3
   },
   "file_extension": ".py",
   "mimetype": "text/x-python",
   "name": "python",
   "nbconvert_exporter": "python",
   "pygments_lexer": "ipython3",
   "version": "3.9.7"
  }
 },
 "nbformat": 4,
 "nbformat_minor": 5
}
