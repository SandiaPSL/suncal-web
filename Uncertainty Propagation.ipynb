{
 "cells": [
  {
   "cell_type": "markdown",
   "id": "17accb62-5ce8-4a9c-9307-4564dbe319c3",
   "metadata": {},
   "source": [
    "### Suncal-Web Uncertainty Propagation\n",
    "\n",
    "---"
   ]
  },
  {
   "cell_type": "code",
   "execution_count": 1,
   "id": "e36dd27c-1799-4d5e-a001-37765164546b",
   "metadata": {},
   "outputs": [],
   "source": [
    "%matplotlib ipympl\n",
    "import ipywidgets as widgets\n",
    "import matplotlib.pyplot as plt\n",
    "\n",
    "import suncalwidgets as sw\n",
    "import suncal\n",
    "suncal.plotting.plotstyle.update({'font.size': 9})"
   ]
  },
  {
   "cell_type": "code",
   "execution_count": 2,
   "id": "3835d96f-b0fa-4dec-a5d9-ae218e45d93c",
   "metadata": {},
   "outputs": [
    {
     "data": {
      "application/vnd.jupyter.widget-view+json": {
       "model_id": "5cc20170b3e44c4d96bca060d58e04b7",
       "version_major": 2,
       "version_minor": 0
      },
      "text/plain": [
       "Tab(children=(FunctionList(children=(HBox(children=(Button(description='+', layout=Layout(width='max-content')…"
      ]
     },
     "metadata": {},
     "output_type": "display_data"
    }
   ],
   "source": [
    "ucalc = suncal.UncertCalc(function='f=a+b')\n",
    "ucalc.add_required_inputs()\n",
    "ucalc.calculate()\n",
    "\n",
    "funclist = sw.FunctionList()\n",
    "inptlist = sw.InputList()\n",
    "settings = sw.Settings()\n",
    "output = sw.OutWidget(ucalc)\n",
    "\n",
    "def on_funcnext(z):\n",
    "    for i, func in enumerate(funclist.funclist):\n",
    "        units = None if '[units]' in func.units.value else func.units.value\n",
    "        try:\n",
    "            ucalc.set_function(func.fexpr.value, idx=i, name=func.fname.value, outunits=units)\n",
    "        except ValueError:\n",
    "            output.view.layout.visibility = 'hidden'\n",
    "            output.message('Invalid model equation')\n",
    "            unctab.children = [funclist, output]\n",
    "            unctab.set_title(1, 'Output')\n",
    "            unctab.selected_index = 1\n",
    "            return\n",
    "\n",
    "    ucalc.add_required_inputs()\n",
    "    for name in inptlist.get_names():\n",
    "        if name not in ucalc.inputs.names:\n",
    "            inptlist.rem_inpt(name)\n",
    "    for name in ucalc.inputs.names:\n",
    "        if name not in inptlist.get_names():\n",
    "            inptlist.add_inpt(name)\n",
    "\n",
    "    unctab.children = [funclist, inptlist]\n",
    "    unctab.set_title(1, 'Measured Values')\n",
    "    unctab.selected_index = 1\n",
    "\n",
    "def on_measnext(z):\n",
    "    inames = inptlist.get_names()\n",
    "    for i, (inpt, name) in enumerate(zip(inptlist.inputs, inames)):\n",
    "        ivar = ucalc.set_input(name=name, nom=inpt.nominal.value, units=inpt.units.value)\n",
    "        for k, ucomp in enumerate(inpt.uncerts.children):\n",
    "            uvar = ivar.add_comp(var=name, **ucomp.get_distargs())\n",
    "        ivar.set_nom(inpt.nominal.value)\n",
    "\n",
    "    settings.names = ucalc.inputs.names\n",
    "    unctab.children = [funclist, inptlist, settings]\n",
    "    unctab.set_title(2, 'Settings')\n",
    "    unctab.selected_index = 2\n",
    "\n",
    "def calculate(z):\n",
    "    for cor in settings.get_corrs():\n",
    "        ucalc.correlate_vars(*cor)\n",
    "\n",
    "    if ucalc.model.check_circular():\n",
    "        output.view.layout.visibility = 'hidden'\n",
    "        output.message('Circular definition in measurement model')\n",
    "\n",
    "    try:\n",
    "        ucalc.model.check_dimensionality()\n",
    "    except suncal.unitmgr.pint.PintError as e:\n",
    "        output.view.layout.visibility = 'hidden'\n",
    "        output.message('Units Error: \\n\\n' + str(e))\n",
    "\n",
    "    try:\n",
    "        ucalc.calculate()\n",
    "    except (ValueError, IndexError) as e:\n",
    "        output.view.layout.visibility = 'hidden'\n",
    "        output.message('Error: \\n\\n' + str(e))\n",
    "    except suncal.unitmgr.pint.PintError as e:\n",
    "        output.view.layout.visibility = 'hidden'\n",
    "        output.message('Units Error: \\n\\n' + str(e))\n",
    "    else:\n",
    "        output.view.layout.visibility = 'visible'\n",
    "        output.update()\n",
    "\n",
    "    unctab.children = [funclist, inptlist, settings, output]\n",
    "    unctab.set_title(3, 'Output')\n",
    "    unctab.selected_index = 3\n",
    "\n",
    "funclist.btnnext.on_click(on_funcnext)\n",
    "inptlist.btnnext.on_click(on_measnext)\n",
    "settings.btnnext.on_click(calculate)\n",
    "\n",
    "unctab = widgets.Tab(children=[funclist])\n",
    "unctab.set_title(0, 'Model Functions')\n",
    "unctab"
   ]
  },
  {
   "cell_type": "markdown",
   "id": "a2c68bcd-ea5a-4854-bab2-60d6530bca1c",
   "metadata": {},
   "source": [
    "---\n",
    "\n",
    "Calculates combined uncertainty using the GUM and Monte Carlo (GUM-S1) methods\n",
    "\n",
    "\n",
    "#### Tabs\n",
    "\n",
    "- **Model Functions**: Enter one or more measurement models, with optional units\n",
    "- **Measured Values**: Enter the measured value and uncertainty components for each variable in the model functions\n",
    "- **Settings**: Enter number of Monte Carlo samples and random number seed, plus any correlation coefficients between input variables\n",
    "- **Output**: Results of the calculation"
   ]
  },
  {
   "cell_type": "markdown",
   "id": "253e1297-c53e-4ad4-a7a8-a2b11677f639",
   "metadata": {},
   "source": [
    "---\n",
    "\n",
    "#### Suncal\n",
    "\n",
    "Suncal was developed by the Primary Standards Lab at Sandia National Laboratories. For more features and desktop version, see [https://sandiapsl.github.io](https://sandiapsl.github.io).\n",
    "\n",
    "© 2019-2021 National Technology & Engineering Solutions of Sandia, LLC (NTESS).\n",
    "Under the terms of Contract DE-NA0003525 with NTESS, the U.S. Government\n",
    "retains certain rights in this software."
   ]
  },
  {
   "cell_type": "code",
   "execution_count": null,
   "id": "d3f7dcd3-a32f-473e-a466-b403e2f7cf80",
   "metadata": {},
   "outputs": [],
   "source": []
  }
 ],
 "metadata": {
  "kernelspec": {
   "display_name": "Python 3 (ipykernel)",
   "language": "python",
   "name": "python3"
  },
  "language_info": {
   "codemirror_mode": {
    "name": "ipython",
    "version": 3
   },
   "file_extension": ".py",
   "mimetype": "text/x-python",
   "name": "python",
   "nbconvert_exporter": "python",
   "pygments_lexer": "ipython3",
   "version": "3.9.7"
  }
 },
 "nbformat": 4,
 "nbformat_minor": 5
}
