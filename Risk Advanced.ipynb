{
 "cells": [
  {
   "cell_type": "markdown",
   "id": "1630851d-c6c9-4586-9140-534683eb35ce",
   "metadata": {},
   "source": [
    "### Suncal-Web Measurement Risk Calculator\n",
    "\n",
    "---"
   ]
  },
  {
   "cell_type": "code",
   "execution_count": 1,
   "id": "b6f6675a-3dc6-4fad-87be-f34da2de53ac",
   "metadata": {},
   "outputs": [],
   "source": [
    "%matplotlib ipympl\n",
    "import ipywidgets as widgets\n",
    "\n",
    "from scipy import stats\n",
    "import matplotlib.pyplot as plt\n",
    "\n",
    "import suncal\n",
    "from suncal import risk\n",
    "import suncalwidgets\n",
    "suncal.plotting.plotstyle.update({'font.size': 9})"
   ]
  },
  {
   "cell_type": "code",
   "execution_count": 2,
   "id": "27e22b92-c8a2-49d8-83f1-abb281db4384",
   "metadata": {},
   "outputs": [
    {
     "data": {
      "application/vnd.jupyter.widget-view+json": {
       "model_id": "cf4d1b97445b4b3abce0d7ba4cd03b52",
       "version_major": 2,
       "version_minor": 0
      },
      "text/plain": [
       "HBox(children=(VBox(children=(FloatText(value=1.0, description='Upper Limit', style=DescriptionStyle(descripti…"
      ]
     },
     "metadata": {},
     "output_type": "display_data"
    }
   ],
   "source": [
    "r = risk.Risk()\n",
    "\n",
    "style = {'description_width': 'initial'}\n",
    "\n",
    "plt.ioff()\n",
    "fig = plt.figure()\n",
    "plt.ion()\n",
    "\n",
    "def update_output(change=None):\n",
    "    r.set_speclimits(lower_lim.value, upper_lim.value)\n",
    "    r.set_procdist(distp.get_dist())\n",
    "    r.set_testdist(distt.get_dist())\n",
    "    r.set_guardband(gbf.value, gbf.value)\n",
    "    with tableout:\n",
    "        tableout.clear_output(wait=True)\n",
    "        display(r.out)\n",
    "    r.out.plot_joint(plot=fig)\n",
    "\n",
    "def on_gbmethod(change):\n",
    "    if gbmethod.value == 'Target PFA':\n",
    "        gbpfa.layout.visibility = 'visible'\n",
    "    else:\n",
    "        gbpfa.layout.visibility = 'hidden'\n",
    "        \n",
    "def on_gbapply(change):\n",
    "    if gbmethod.value == 'RSS':\n",
    "        r.calc_guardband('rss')\n",
    "    elif gbmethod.value == 'Method 6':\n",
    "        r.calc_guardband('dobbert')\n",
    "    else:\n",
    "        r.calc_guardband('pfa', pfa=gbpfa.value/100)\n",
    "    gbf.value = r.get_guardband()[0]\n",
    "    update_output()\n",
    "\n",
    "tableout = widgets.Output()    \n",
    "distp = suncalwidgets.DistributionWidget()\n",
    "distt = suncalwidgets.DistributionWidget()\n",
    "upper_lim = widgets.FloatText(value=1, description='Upper Limit', style=style)\n",
    "lower_lim = widgets.FloatText(value=-1, description='Lower Limit', style=style)\n",
    "distp.param1.value = 0\n",
    "distp.param2.value = .51\n",
    "distt.param1.value = 0\n",
    "distt.param2.value = .125\n",
    "gbf = widgets.FloatText(value=0, description='Absolute Guardband', style=style)\n",
    "btncalc = widgets.Button(description='Calculate')\n",
    "btncalc.on_click(update_output)    \n",
    "\n",
    "gbmethod = widgets.Dropdown(options=['RSS', 'Method 6', 'Target PFA'], value='RSS', description='Method')\n",
    "gbpfa = widgets.FloatText(value=2, description='Target PFA%')\n",
    "gbapply = widgets.Button(description='Apply')\n",
    "gbbox = widgets.VBox([gbmethod, gbpfa, gbapply])\n",
    "gbaccordion = widgets.Accordion(children=[gbbox], selected_index=None)\n",
    "gbaccordion.set_title(0, 'Guardbanding')\n",
    "gbpfa.layout.visibility = 'hidden'\n",
    "gbmethod.observe(on_gbmethod, names='value')\n",
    "gbapply.on_click(on_gbapply)\n",
    "\n",
    "ctllayout = widgets.VBox([upper_lim, lower_lim,\n",
    "                       widgets.Label('Process Distribution:'),\n",
    "                       distp,\n",
    "                       widgets.Label('Measurement Distribution:'),\n",
    "                       distt, \n",
    "                       gbf,\n",
    "                       btncalc,\n",
    "                       gbaccordion])\n",
    "\n",
    "outlayout = widgets.VBox([fig.canvas, tableout])\n",
    "layout = widgets.HBox([ctllayout, outlayout])\n",
    "update_output()\n",
    "display(layout)"
   ]
  },
  {
   "cell_type": "markdown",
   "id": "13069a4f-9a18-4d2f-9429-3522109d29d2",
   "metadata": {},
   "source": [
    "---\n",
    "\n",
    "#### Definitions\n",
    "\n",
    "- **Upper and Lower Limit**: The defined tolerance/specification limits for acceptable product\n",
    "- **Process Distribution**: The probability distribution of all products (manufactured or calibrated)\n",
    "- **Measurement Distribution**: The probability distribution of the test/inspection measurement uncertainty\n",
    "- **Absolute Guardband**: The amount added to the lower limit and subtracted from the upper limit to determine acceptance limits\n",
    "- **Process Risk**: Probability that any product is out of limits, regardless of any inspection/test measurement\n",
    "- **Specific False Accept Risk**: probability that a product is out of tolerance given the specific measured value result\n",
    "- **Global False Accept Risk (PFA)**: probability that any product is falsely accepted by an inspection/test measurement\n",
    "- **Global False Reject Risk (PFR)**: probability that any product is falsely rejected by an inspection/test measurement\n",
    "\n",
    "#### Guardbanding Methods:\n",
    "\n",
    "- **RSS**: Calculates guardband factor as $\\sqrt{1-1/TUR^2}$\n",
    "- **Method 6**: Calculates guardband factor as $1 - \\frac{1.04 - \\exp(0.38 \\log(TUR) - 0.54)}{TUR}$ (See Dobbert, \"A guardband strategy for managing false-accept risk\")\n",
    "- **Target PFA**: Numerically solve for the guardband factor that results in the desired PFA"
   ]
  },
  {
   "cell_type": "markdown",
   "id": "7605d396-ca13-4034-8556-4bf843e9a375",
   "metadata": {},
   "source": [
    "---\n",
    "\n",
    "#### Suncal\n",
    "\n",
    "Suncal was developed by the Primary Standards Lab at Sandia National Laboratories. For more features and desktop version, see [https://sandiapsl.github.io](https://sandiapsl.github.io).\n",
    "\n",
    "© 2019-2021 National Technology & Engineering Solutions of Sandia, LLC (NTESS).\n",
    "Under the terms of Contract DE-NA0003525 with NTESS, the U.S. Government\n",
    "retains certain rights in this software."
   ]
  },
  {
   "cell_type": "code",
   "execution_count": null,
   "id": "b65e7222-3536-4eb2-8735-2ea7bc5d06f0",
   "metadata": {},
   "outputs": [],
   "source": []
  }
 ],
 "metadata": {
  "kernelspec": {
   "display_name": "Python 3 (ipykernel)",
   "language": "python",
   "name": "python3"
  },
  "language_info": {
   "codemirror_mode": {
    "name": "ipython",
    "version": 3
   },
   "file_extension": ".py",
   "mimetype": "text/x-python",
   "name": "python",
   "nbconvert_exporter": "python",
   "pygments_lexer": "ipython3",
   "version": "3.9.7"
  }
 },
 "nbformat": 4,
 "nbformat_minor": 5
}
