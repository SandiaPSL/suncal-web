{
 "cells": [
  {
   "cell_type": "markdown",
   "id": "01767ef9-c312-4066-a6ea-ac4872b7cb30",
   "metadata": {},
   "source": [
    "### Suncal-Web units parser and converter\n",
    "\n",
    "---"
   ]
  },
  {
   "cell_type": "code",
   "execution_count": 1,
   "id": "34e88823-a310-4989-a6b2-a4f95aa24624",
   "metadata": {},
   "outputs": [],
   "source": [
    "%matplotlib ipympl\n",
    "import ipywidgets as widgets\n",
    "\n",
    "import pint\n",
    "ureg = pint.UnitRegistry()"
   ]
  },
  {
   "cell_type": "code",
   "execution_count": 2,
   "id": "0f71407b-0064-42d1-9ad7-794e7e03190d",
   "metadata": {},
   "outputs": [
    {
     "data": {
      "application/vnd.jupyter.widget-view+json": {
       "model_id": "57d5e2efb71f451999edd635a2da5bba",
       "version_major": 2,
       "version_minor": 0
      },
      "text/plain": [
       "VBox(children=(FloatText(value=1.0, description='Value'), HBox(children=(Text(value='meter', continuous_update…"
      ]
     },
     "metadata": {},
     "output_type": "display_data"
    }
   ],
   "source": [
    "val = widgets.FloatText(value=1, description='Value', continuous_update=False)\n",
    "unit = widgets.Text(value='meter', description='Unit', continuous_update=False)\n",
    "tounit = widgets.Text(value='foot', description='To Unit', continuous_update=False)\n",
    "outvalue = widgets.HTML()\n",
    "\n",
    "dimension = widgets.HTML('length')\n",
    "todimension = widgets.HTML('length')\n",
    "\n",
    "inlayout = widgets.HBox([unit, dimension])\n",
    "outlayout = widgets.HBox([tounit, todimension])\n",
    "\n",
    "def convert(change=None):\n",
    "    try:\n",
    "        inqty = ureg.Quantity(val.value, unit.value)\n",
    "        dimension.value = format(inqty.dimensionality, 'H')\n",
    "    except pint.PintError:\n",
    "        outvalue.value = 'Undefined Unit ' + unit.value\n",
    "        return\n",
    "        \n",
    "    try:\n",
    "        todimension.value = format(ureg.parse_units(tounit.value).dimensionality, 'H')\n",
    "    except pint.PintError:\n",
    "        outvalue.value = '<font color=\"Red\">Undefined Unit ' + tounit.value + '</font>'\n",
    "        return\n",
    "\n",
    "    try:\n",
    "        outqty = inqty.to(tounit.value)\n",
    "    except pint.PintError:\n",
    "        outvalue.value = '<font color=\"Red\">Dimensionality Error</font>'\n",
    "    else:\n",
    "        outvalue.value = '<font color=\"Blue\">' + format(outqty, '.4H') + '</font>'\n",
    "\n",
    "val.observe(convert)\n",
    "unit.observe(convert)\n",
    "tounit.observe(convert)\n",
    "\n",
    "convert()\n",
    "\n",
    "olayout = widgets.HBox([widgets.Label('Result:'), outvalue])\n",
    "layout = widgets.VBox([val, inlayout, outlayout, olayout])\n",
    "layout"
   ]
  },
  {
   "cell_type": "markdown",
   "id": "b44970a7-5b23-4004-b7b4-d44b6f32232b",
   "metadata": {},
   "source": [
    "---\n",
    "\n",
    "#### Suncal\n",
    "\n",
    "Suncal was developed by the Primary Standards Lab at Sandia National Laboratories. For more features and desktop version, see [https://sandiapsl.github.io](https://sandiapsl.github.io).\n",
    "\n",
    "© 2019-2021 National Technology & Engineering Solutions of Sandia, LLC (NTESS).\n",
    "Under the terms of Contract DE-NA0003525 with NTESS, the U.S. Government\n",
    "retains certain rights in this software."
   ]
  },
  {
   "cell_type": "code",
   "execution_count": null,
   "id": "af4b5144-6390-457e-aaf2-ec43dc89620b",
   "metadata": {},
   "outputs": [],
   "source": []
  }
 ],
 "metadata": {
  "kernelspec": {
   "display_name": "Python 3 (ipykernel)",
   "language": "python",
   "name": "python3"
  },
  "language_info": {
   "codemirror_mode": {
    "name": "ipython",
    "version": 3
   },
   "file_extension": ".py",
   "mimetype": "text/x-python",
   "name": "python",
   "nbconvert_exporter": "python",
   "pygments_lexer": "ipython3",
   "version": "3.9.7"
  }
 },
 "nbformat": 4,
 "nbformat_minor": 5
}
