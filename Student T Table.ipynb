{
 "cells": [
  {
   "cell_type": "markdown",
   "id": "135638ce-d017-4b23-a429-c411c3b6afe4",
   "metadata": {},
   "source": [
    "### Suncal-Web Student-T Table Calculator\n",
    "\n",
    "---"
   ]
  },
  {
   "cell_type": "code",
   "execution_count": 1,
   "id": "4cdbfd9b-05c5-4ac9-8cf9-ca7c4a59f952",
   "metadata": {},
   "outputs": [],
   "source": [
    "%matplotlib ipympl\n",
    "import ipywidgets as widgets\n",
    "import numpy as np\n",
    "from scipy import stats\n",
    "import matplotlib.pyplot as plt\n",
    "\n",
    "from suncal import ttable"
   ]
  },
  {
   "cell_type": "code",
   "execution_count": 3,
   "id": "d3d7f93c-e31e-4182-aa06-a1529f3f8167",
   "metadata": {},
   "outputs": [
    {
     "data": {
      "application/vnd.jupyter.widget-view+json": {
       "model_id": "52155c75bcb2474cbcc83d75388841db",
       "version_major": 2,
       "version_minor": 0
      },
      "text/plain": [
       "HBox(children=(VBox(children=(Dropdown(description='Solve for', options=('Coverage Factor', 'Confidence', 'Deg…"
      ]
     },
     "metadata": {},
     "output_type": "display_data"
    }
   ],
   "source": [
    "style = {'description_width': 'initial'}\n",
    "cmbSolve = widgets.Dropdown(options=['Coverage Factor', 'Confidence', 'Degrees of Freedom'], description='Solve for', style=style)\n",
    "degf = widgets.BoundedFloatText(value=6, min=1, description='Degrees of Freedom', style=style)\n",
    "conf = widgets.BoundedFloatText(value=95, min=1, max=99.9999, description='Level of Confidence', style=style)\n",
    "cov = widgets.BoundedFloatText(value=2, min=1, max=10, description='Coverage Factor (k)', style=style)\n",
    "\n",
    "plt.ioff()\n",
    "fig = plt.figure()\n",
    "plt.ion()\n",
    "\n",
    "def recalc(change=None):\n",
    "    if cmbSolve.value == 'Coverage Factor':\n",
    "        cov.value = ttable.t_factor(conf.value/100, degf.value)\n",
    "    elif cmbSolve.value == 'Degrees of Freedom':\n",
    "        degf.value = ttable.degf(cov.value, conf.value/100)\n",
    "    else:\n",
    "        conf.value = ttable.confidence(cov.value, degf.value)*100\n",
    "\n",
    "    fig.clf()\n",
    "    ax = fig.subplots()\n",
    "    x = np.linspace(-4, 4, num=200)\n",
    "    pdf_t = stats.t.pdf(x, loc=0, scale=1, df=degf.value)\n",
    "    pdf_norm = stats.norm.pdf(x, loc=0, scale=1)\n",
    "    ax.plot(x, pdf_t, label='Student T')\n",
    "    ax.plot(x, pdf_norm, label='Normal')\n",
    "    ax.legend()\n",
    "    ax.axvline(-cov.value, ls='--', color='black', lw=1)\n",
    "    ax.axvline(cov.value, ls='--', color='black', lw=1)\n",
    "\n",
    "recalc()\n",
    "\n",
    "cov.observe(recalc)\n",
    "conf.observe(recalc)\n",
    "degf.observe(recalc)\n",
    "\n",
    "ctllayout = widgets.VBox([cmbSolve, degf, conf, cov])\n",
    "layout = widgets.HBox([ctllayout, fig.canvas])\n",
    "layout"
   ]
  },
  {
   "cell_type": "markdown",
   "id": "90dbb36c-f30a-44fa-bf5e-e0bf62c3a0e1",
   "metadata": {},
   "source": [
    "---\n",
    "\n",
    "#### Suncal\n",
    "\n",
    "Suncal was developed by the Primary Standards Lab at Sandia National Laboratories. For more features and desktop version, see [https://sandiapsl.github.io](https://sandiapsl.github.io).\n",
    "\n",
    "© 2019-2021 National Technology & Engineering Solutions of Sandia, LLC (NTESS).\n",
    "Under the terms of Contract DE-NA0003525 with NTESS, the U.S. Government\n",
    "retains certain rights in this software."
   ]
  },
  {
   "cell_type": "code",
   "execution_count": null,
   "id": "67f89290-5ac4-4fee-bf88-95432a7d3a5d",
   "metadata": {},
   "outputs": [],
   "source": []
  }
 ],
 "metadata": {
  "kernelspec": {
   "display_name": "Python 3 (ipykernel)",
   "language": "python",
   "name": "python3"
  },
  "language_info": {
   "codemirror_mode": {
    "name": "ipython",
    "version": 3
   },
   "file_extension": ".py",
   "mimetype": "text/x-python",
   "name": "python",
   "nbconvert_exporter": "python",
   "pygments_lexer": "ipython3",
   "version": "3.9.7"
  }
 },
 "nbformat": 4,
 "nbformat_minor": 5
}
