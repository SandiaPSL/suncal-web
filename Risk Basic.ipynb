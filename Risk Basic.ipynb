{
 "cells": [
  {
   "cell_type": "markdown",
   "id": "a69d1977-7775-4cf2-b11e-1b3b1757145f",
   "metadata": {},
   "source": [
    "### Suncal-Web Basic Measurement Risk Calculator\n",
    "\n",
    "---"
   ]
  },
  {
   "cell_type": "code",
   "execution_count": 1,
   "id": "09f1aa48-19f7-4180-b54a-de1a8690f4ea",
   "metadata": {},
   "outputs": [],
   "source": [
    "%matplotlib ipympl\n",
    "import matplotlib.pyplot as plt\n",
    "import ipywidgets as widgets\n",
    "\n",
    "import suncal\n",
    "from suncal import risk\n",
    "suncal.plotting.plotstyle.update({'font.size': 9})"
   ]
  },
  {
   "cell_type": "code",
   "execution_count": 3,
   "id": "7c05baaf-fd0d-46c4-8e1e-86ba26772de4",
   "metadata": {},
   "outputs": [],
   "source": [
    "r = risk.Risk()\n",
    "r.set_itp(.95)\n",
    "r.set_tur(4)"
   ]
  },
  {
   "cell_type": "code",
   "execution_count": 4,
   "id": "96d238ee-7d79-45e5-b21a-de8d8d427f6c",
   "metadata": {},
   "outputs": [
    {
     "data": {
      "application/vnd.jupyter.widget-view+json": {
       "model_id": "fc3a98058e0e423998e70c8c342c99a4",
       "version_major": 2,
       "version_minor": 0
      },
      "text/plain": [
       "HBox(children=(VBox(children=(FloatSlider(value=95.0, description='In-Tolerance Probability %', max=99.0, min=…"
      ]
     },
     "metadata": {},
     "output_type": "display_data"
    }
   ],
   "source": [
    "style = {'description_width': 'initial'}\n",
    "\n",
    "tableout = widgets.Output()\n",
    "\n",
    "plt.ioff()\n",
    "fig = plt.figure()\n",
    "plt.ion()\n",
    "\n",
    "witp = widgets.FloatSlider(95, min=1, max=99, step=1, description='In-Tolerance Probability %', style=style)\n",
    "wtur = widgets.FloatSlider(4, min=.1, max=20, step=.1, description='Test Uncertainty Ratio', style=style)\n",
    "wgbf = widgets.FloatSlider(1, min=0, max=2, step=.01, description='Guardband Factor', style=style)\n",
    "wmeas = widgets.FloatSlider(0, min=-2, max=2, step=.01, description='Measured Value', style=style)\n",
    "\n",
    "def update_output():\n",
    "    with tableout:\n",
    "        tableout.clear_output(wait=True)\n",
    "        display(r.out)\n",
    "    r.out.plot_joint(plot=fig)\n",
    "\n",
    "def on_itpchange(change):\n",
    "    r.set_itp(change['new']/100)\n",
    "    update_output()\n",
    "\n",
    "def on_turchange(change):\n",
    "    r.set_tur(change['new'])\n",
    "    update_output()\n",
    "\n",
    "def on_gbfchange(change):\n",
    "    r.set_gbf(change['new'])\n",
    "    update_output()\n",
    "\n",
    "def on_measchange(change):\n",
    "    r.set_testmedian(change['new'])\n",
    "    update_output()\n",
    "\n",
    "witp.observe(on_itpchange, names='value')\n",
    "wtur.observe(on_turchange, names='value')\n",
    "wgbf.observe(on_gbfchange, names='value')\n",
    "wmeas.observe(on_measchange, names='value')\n",
    "\n",
    "def on_gbmethod(change):\n",
    "    if gbmethod.value == 'Target PFA':\n",
    "        gbpfa.layout.visibility = 'visible'\n",
    "    else:\n",
    "        gbpfa.layout.visibility = 'hidden'\n",
    "        \n",
    "def on_gbapply(change):\n",
    "    if gbmethod.value == 'RSS':\n",
    "        r.calc_guardband('rss')\n",
    "    elif gbmethod.value == 'Method 6':\n",
    "        r.calc_guardband('dobbert')\n",
    "    else:\n",
    "        r.calc_guardband('pfa', pfa=gbpfa.value/100)\n",
    "    wgbf.value = r.get_gbf()\n",
    "    update_output()\n",
    "\n",
    "\n",
    "gbmethod = widgets.Dropdown(options=['RSS', 'Method 6', 'Target PFA'], value='RSS', description='Method')\n",
    "gbpfa = widgets.FloatText(value=2, description='Target PFA%')\n",
    "gbapply = widgets.Button(description='Apply')\n",
    "gbbox = widgets.VBox([gbmethod, gbpfa, gbapply])\n",
    "gbaccordion = widgets.Accordion(children=[gbbox], selected_index=None)\n",
    "gbaccordion.set_title(0, 'Guardbanding')\n",
    "gbpfa.layout.visibility = 'hidden'\n",
    "gbmethod.observe(on_gbmethod, names='value')\n",
    "gbapply.on_click(on_gbapply)\n",
    "\n",
    "outlayout = widgets.VBox([fig.canvas, tableout])\n",
    "ctllayout = widgets.VBox([witp, wtur, wgbf, wmeas, gbaccordion])\n",
    "layout = widgets.HBox([ctllayout, outlayout])\n",
    "display(layout)\n",
    "\n",
    "r.out.plot_joint(plot=fig)\n",
    "with tableout:\n",
    "    display(r.out)\n",
    "\n"
   ]
  },
  {
   "cell_type": "markdown",
   "id": "5d0bd2fd-9431-46b1-88f7-a2800ed16298",
   "metadata": {
    "tags": []
   },
   "source": [
    "---\n",
    "\n",
    "#### Definitions\n",
    "\n",
    "- **In-tolerance probability**: The probability that any product (manufactured or calibrated) falls within the tolerance limits\n",
    "- **Test Uncertainty Ratio (TUR)**: Ratio of tolerance to measurement uncertainty at 95% confidence\n",
    "- **Guardband Factor**: The guardbanded acceptance limit will be (tolerance × guardband factor). Guardband factor of 1 indicates no guardbanding is applied.\n",
    "- **Measured Value**: The value as measured. Affects Specific Risk, but not Global Risk.\n",
    "- **Process Risk**: Probability that any product is out of limits, regardless of any inspection/test measurement\n",
    "- **Specific False Accept Risk**: probability that a product is out of tolerance given the specific measured value result\n",
    "- **Global False Accept Risk (PFA)**: probability that any product is falsely accepted by an inspection/test measurement\n",
    "- **Global False Reject Risk (PFR)**: probability that any product is falsely rejected by an inspection/test measurement\n",
    "\n",
    "#### Guardbanding Methods:\n",
    "\n",
    "- **RSS**: Calculates guardband factor as $\\sqrt{1-1/TUR^2}$\n",
    "- **Method 6**: Calculates guardband factor as $1 - \\frac{1.04 - \\exp(0.38 \\log(TUR) - 0.54)}{TUR}$ (See Dobbert, \"A guardband strategy for managing false-accept risk\")\n",
    "- **Target PFA**: Numerically solve for the guardband factor that results in the desired PFA"
   ]
  },
  {
   "cell_type": "markdown",
   "id": "e5127f45-7539-455b-8d32-79269a750426",
   "metadata": {},
   "source": [
    "---\n",
    "\n",
    "#### Suncal\n",
    "\n",
    "Suncal was developed by the Primary Standards Lab at Sandia National Laboratories. For more features and desktop version, see [https://sandiapsl.github.io](https://sandiapsl.github.io).\n",
    "\n",
    "© 2019-2021 National Technology & Engineering Solutions of Sandia, LLC (NTESS).\n",
    "Under the terms of Contract DE-NA0003525 with NTESS, the U.S. Government\n",
    "retains certain rights in this software."
   ]
  },
  {
   "cell_type": "code",
   "execution_count": null,
   "id": "e3641b29-8486-4461-bfaa-1bc25b2fa5d1",
   "metadata": {},
   "outputs": [],
   "source": []
  },
  {
   "cell_type": "code",
   "execution_count": null,
   "id": "027152be-b8a7-4868-9f5c-0b4920cf105f",
   "metadata": {},
   "outputs": [],
   "source": []
  }
 ],
 "metadata": {
  "kernelspec": {
   "display_name": "Python 3 (ipykernel)",
   "language": "python",
   "name": "python3"
  },
  "language_info": {
   "codemirror_mode": {
    "name": "ipython",
    "version": 3
   },
   "file_extension": ".py",
   "mimetype": "text/x-python",
   "name": "python",
   "nbconvert_exporter": "python",
   "pygments_lexer": "ipython3",
   "version": "3.9.7"
  }
 },
 "nbformat": 4,
 "nbformat_minor": 5
}
